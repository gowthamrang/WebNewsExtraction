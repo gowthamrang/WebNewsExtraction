{
 "cells": [
  {
   "cell_type": "code",
   "execution_count": 150,
   "metadata": {
    "collapsed": false
   },
   "outputs": [
    {
     "name": "stdout",
     "output_type": "stream",
     "text": [
      "2\n",
      "7485\n"
     ]
    }
   ],
   "source": [
    "#Data Analysis\n",
    "import numpy as np\n",
    "import os\n",
    "import json\n",
    "trainexamples = []\n",
    "testexamples = []\n",
    "\n",
    "def loadtest(direc):\n",
    "    for each in os.listdir(direc):        \n",
    "        if '.npy' in each:\n",
    "            fids = each.split('_')[1][:-4]\n",
    "            examples = np.load(direc+'/'+each)\n",
    "            with open(direc+'/'+each[:-4]+'.json', 'r') as infile:\n",
    "                values = json.load(infile)\n",
    "            yield examples,fids,values\n",
    "    return\n",
    "\n",
    "   \n",
    "def load(direc):\n",
    "    examples = []\n",
    "    fids  = []\n",
    "    values = []\n",
    "    for each in os.listdir(direc):        \n",
    "        try:\n",
    "            if '.npy' in each:\n",
    "                fids.append(each.split('_')[1][:-4])\n",
    "                examples.extend(np.load(direc+'/'+each))\n",
    "                with open(direc+'/'+each[:-4]+'.json', 'r') as infile:\n",
    "                    values.extend(json.load(infile))\n",
    "        except:\n",
    "            continue\n",
    "    return examples,fids,values\n",
    "\n",
    "trainexamples, trainfids, trainvalues = load('../../../../data/Titlefeature/cv1/train')\n",
    "\n",
    "trainlabels, trainfeatures = [], []\n",
    "for each in trainexamples:\n",
    "    trainfeatures.append(each[1:])\n",
    "    trainlabels.append(each[0])\n",
    "\n",
    "testexamples, testfids, testvalues = load('../../../../data/Titlefeature/cv1/test')\n",
    "testfeatures, testlabels = [], []\n",
    "for each in testexamples:\n",
    "    testfeatures.append(each[1:])\n",
    "    testlabels.append(each[0])\n",
    "assert(len(trainvalues)==len(trainlabels))\n",
    "assert(len(testvalues)==len(testlabels))\n",
    "print len(trainfeatures[0])\n",
    "print len(trainfeatures)"
   ]
  },
  {
   "cell_type": "code",
   "execution_count": 151,
   "metadata": {
    "collapsed": false
   },
   "outputs": [
    {
     "name": "stdout",
     "output_type": "stream",
     "text": [
      "29 420\n"
     ]
    }
   ],
   "source": [
    "print trainlabels.count(1), trainlabels.count(2)"
   ]
  },
  {
   "cell_type": "code",
   "execution_count": null,
   "metadata": {
    "collapsed": false
   },
   "outputs": [],
   "source": []
  },
  {
   "cell_type": "code",
   "execution_count": 2,
   "metadata": {
    "collapsed": false
   },
   "outputs": [
    {
     "ename": "NameError",
     "evalue": "name 'testlabels' is not defined",
     "output_type": "error",
     "traceback": [
      "\u001b[1;31m---------------------------------------------------------------------------\u001b[0m",
      "\u001b[1;31mNameError\u001b[0m                                 Traceback (most recent call last)",
      "\u001b[1;32m<ipython-input-2-efc54b84ce18>\u001b[0m in \u001b[0;36m<module>\u001b[1;34m()\u001b[0m\n\u001b[0;32m      5\u001b[0m \u001b[1;32mimport\u001b[0m \u001b[0mnumpy\u001b[0m \u001b[1;32mas\u001b[0m \u001b[0mnp\u001b[0m\u001b[1;33m\u001b[0m\u001b[0m\n\u001b[0;32m      6\u001b[0m \u001b[1;33m\u001b[0m\u001b[0m\n\u001b[1;32m----> 7\u001b[1;33m \u001b[0mtestlabels_title\u001b[0m \u001b[1;33m=\u001b[0m \u001b[0mmap\u001b[0m\u001b[1;33m(\u001b[0m\u001b[1;32mlambda\u001b[0m \u001b[0mx\u001b[0m\u001b[1;33m:\u001b[0m \u001b[1;36m1\u001b[0m \u001b[1;32mif\u001b[0m \u001b[0mx\u001b[0m\u001b[1;33m==\u001b[0m\u001b[1;36m2\u001b[0m \u001b[1;32melse\u001b[0m \u001b[1;36m0\u001b[0m \u001b[1;33m,\u001b[0m \u001b[0mtestlabels\u001b[0m\u001b[1;33m)\u001b[0m\u001b[1;33m\u001b[0m\u001b[0m\n\u001b[0m\u001b[0;32m      8\u001b[0m \u001b[0mp_dectree\u001b[0m \u001b[1;33m=\u001b[0m  \u001b[0mnp\u001b[0m\u001b[1;33m.\u001b[0m\u001b[0marray\u001b[0m\u001b[1;33m(\u001b[0m\u001b[0mtestfeatures\u001b[0m\u001b[1;33m)\u001b[0m\u001b[1;33m[\u001b[0m\u001b[1;33m:\u001b[0m\u001b[1;33m,\u001b[0m\u001b[1;36m0\u001b[0m\u001b[1;33m]\u001b[0m\u001b[1;33m\u001b[0m\u001b[0m\n\u001b[0;32m      9\u001b[0m \u001b[1;32mprint\u001b[0m \u001b[0mprecision_score\u001b[0m\u001b[1;33m(\u001b[0m\u001b[0mp_dectree\u001b[0m\u001b[1;33m,\u001b[0m\u001b[0mtestlabels_title\u001b[0m\u001b[1;33m)\u001b[0m\u001b[1;33m\u001b[0m\u001b[0m\n",
      "\u001b[1;31mNameError\u001b[0m: name 'testlabels' is not defined"
     ]
    }
   ],
   "source": [
    "#Content extractor\n",
    "#non parametric classifier\n",
    "from sklearn.tree import DecisionTreeClassifier\n",
    "from sklearn.metrics import f1_score\n",
    "import numpy as np\n",
    "\n",
    "testlabels_title = map(lambda x: 1 if x==2 else 0 , testlabels)\n",
    "p_dectree =  np.array(testfeatures)[:,0]\n",
    "print precision_score(p_dectree,testlabels_title)\n",
    "cnt = 0\n",
    "print '---------Title---------'\n",
    "for i,each in enumerate(zip(p_dectree,testlabels_title)):\n",
    "    if each[0] == 0 and each[1]==1:\n",
    "        print 'Mine %d Ground %d'%(each[0],each[1])\n",
    "        print '-------------Error number %d------------' %cnt\n",
    "        print testvalues[i]\n",
    "        print testfeatures[i]\n",
    "        cnt+=1\n",
    "\n"
   ]
  },
  {
   "cell_type": "code",
   "execution_count": 1,
   "metadata": {
    "collapsed": false
   },
   "outputs": [
    {
     "ename": "NameError",
     "evalue": "name 'loadtest' is not defined",
     "output_type": "error",
     "traceback": [
      "\u001b[1;31m---------------------------------------------------------------------------\u001b[0m",
      "\u001b[1;31mNameError\u001b[0m                                 Traceback (most recent call last)",
      "\u001b[1;32m<ipython-input-1-95353cd57e00>\u001b[0m in \u001b[0;36m<module>\u001b[1;34m()\u001b[0m\n\u001b[0;32m     30\u001b[0m \u001b[0mpickle\u001b[0m\u001b[1;33m.\u001b[0m\u001b[0mdump\u001b[0m\u001b[1;33m(\u001b[0m \u001b[0mTestCheck\u001b[0m\u001b[1;33m,\u001b[0m \u001b[0mfile\u001b[0m\u001b[1;33m(\u001b[0m\u001b[1;34m'Best_title.dat'\u001b[0m\u001b[1;33m,\u001b[0m\u001b[1;34m'wb'\u001b[0m\u001b[1;33m)\u001b[0m\u001b[1;33m)\u001b[0m\u001b[1;33m\u001b[0m\u001b[0m\n\u001b[0;32m     31\u001b[0m \u001b[0mTC\u001b[0m \u001b[1;33m=\u001b[0m \u001b[0mpickle\u001b[0m\u001b[1;33m.\u001b[0m\u001b[0mload\u001b[0m\u001b[1;33m(\u001b[0m\u001b[0mfile\u001b[0m\u001b[1;33m(\u001b[0m\u001b[1;34m'Best_title.dat'\u001b[0m\u001b[1;33m,\u001b[0m\u001b[1;34m'rb'\u001b[0m\u001b[1;33m)\u001b[0m\u001b[1;33m)\u001b[0m\u001b[1;33m\u001b[0m\u001b[0m\n\u001b[1;32m---> 32\u001b[1;33m \u001b[1;32mfor\u001b[0m \u001b[0mx\u001b[0m\u001b[1;33m,\u001b[0m\u001b[0my\u001b[0m\u001b[1;33m,\u001b[0m\u001b[0mv\u001b[0m \u001b[1;32min\u001b[0m \u001b[0mloadtest\u001b[0m\u001b[1;33m(\u001b[0m\u001b[1;34m'../../../../data/Titlefeature/cv1/test'\u001b[0m\u001b[1;33m)\u001b[0m\u001b[1;33m:\u001b[0m\u001b[1;33m\u001b[0m\u001b[0m\n\u001b[0m\u001b[0;32m     33\u001b[0m     \u001b[0mY\u001b[0m \u001b[1;33m=\u001b[0m \u001b[0mTC\u001b[0m\u001b[1;33m.\u001b[0m\u001b[0mpredict\u001b[0m\u001b[1;33m(\u001b[0m\u001b[0mnp\u001b[0m\u001b[1;33m.\u001b[0m\u001b[0marray\u001b[0m\u001b[1;33m(\u001b[0m\u001b[0mx\u001b[0m\u001b[1;33m)\u001b[0m\u001b[1;33m.\u001b[0m\u001b[0mtranspose\u001b[0m\u001b[1;33m(\u001b[0m\u001b[1;33m)\u001b[0m\u001b[1;33m[\u001b[0m\u001b[1;36m1\u001b[0m\u001b[1;33m:\u001b[0m\u001b[1;33m,\u001b[0m\u001b[1;33m]\u001b[0m\u001b[1;33m.\u001b[0m\u001b[0mtranspose\u001b[0m\u001b[1;33m(\u001b[0m\u001b[1;33m)\u001b[0m\u001b[1;33m)\u001b[0m\u001b[1;33m\u001b[0m\u001b[0m\n\u001b[0;32m     34\u001b[0m     \u001b[1;32mprint\u001b[0m \u001b[1;34m'--**'\u001b[0m\u001b[1;33m*\u001b[0m\u001b[1;36m10\u001b[0m\u001b[1;33m\u001b[0m\u001b[0m\n",
      "\u001b[1;31mNameError\u001b[0m: name 'loadtest' is not defined"
     ]
    }
   ],
   "source": [
    "class TitleClassifier:\n",
    "    \n",
    "    def __init__(self):\n",
    "        \"\"\"Predicts for a single news article only\"\"\"\n",
    "        pass\n",
    "    \n",
    "    def predict(self,X):        \n",
    "        assert(X.shape[1] == 2)        \n",
    "        rowno = 0\n",
    "        res = -1\n",
    "        gotit = False\n",
    "        for goodmatch,isheading in X:\n",
    "            \n",
    "            if goodmatch == 1 and isheading==1:\n",
    "                res = rowno\n",
    "                \n",
    "                break;\n",
    "            if isheading == 1 and not gotit:\n",
    "                res = rowno\n",
    "                gotit  = True\n",
    "            rowno+=1\n",
    "        Y = [0]*X.shape[0]\n",
    "        print res\n",
    "        if res>=0:\n",
    "            Y[res] = 1\n",
    "        return Y\n",
    "            \n",
    "TestCheck = TitleClassifier()\n",
    "import pickle\n",
    "pickle.dump( TestCheck, file('Best_title.dat','wb'))\n",
    "TC = pickle.load(file('Best_title.dat','rb'))\n",
    "for x,y,v in loadtest('../../../../data/Titlefeature/cv1/test'):\n",
    "    Y = TC.predict(np.array(x).transpose()[1:,].transpose())\n",
    "    print '--**'*10\n",
    "    title = ''\n",
    "    for i,e in enumerate(Y):\n",
    "        if e == 1:\n",
    "            title+=v[i]\n",
    "    print title\n",
    "        \n",
    "                \n",
    "                \n",
    "        "
   ]
  },
  {
   "cell_type": "code",
   "execution_count": null,
   "metadata": {
    "collapsed": true
   },
   "outputs": [],
   "source": []
  }
 ],
 "metadata": {
  "kernelspec": {
   "display_name": "Python 2",
   "language": "python",
   "name": "python2"
  },
  "language_info": {
   "codemirror_mode": {
    "name": "ipython",
    "version": 2
   },
   "file_extension": ".py",
   "mimetype": "text/x-python",
   "name": "python",
   "nbconvert_exporter": "python",
   "pygments_lexer": "ipython2",
   "version": "2.7.11"
  }
 },
 "nbformat": 4,
 "nbformat_minor": 0
}
