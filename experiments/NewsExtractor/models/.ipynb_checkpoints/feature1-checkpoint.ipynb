{
 "cells": [
  {
   "cell_type": "code",
   "execution_count": 1,
   "metadata": {
    "collapsed": false
   },
   "outputs": [
    {
     "name": "stdout",
     "output_type": "stream",
     "text": [
      "14333\n"
     ]
    }
   ],
   "source": [
    "# The pipeline should try different learning algorithms (for some set of features) and find out the 'general' mistakes made.\n",
    "\n",
    "### Tackle those mistake by introducing new dimensions that make the datapoints distinguishable)\n",
    "\n",
    "\n",
    "import numpy as np\n",
    "import os\n",
    "import json\n",
    "trainexamples = []\n",
    "testexamples = []\n",
    "\n",
    "def loadtest(direc):\n",
    "    for each in os.listdir(direc):        \n",
    "        if '.npy' in each:\n",
    "            fids = each.split('_')[1][:-4]\n",
    "            examples = np.load(direc+'/'+each)\n",
    "            with open(direc+'/'+each[:-4]+'.json', 'r') as infile:\n",
    "                values = json.load(infile)\n",
    "            yield examples,fids,values\n",
    "    return\n",
    "\n",
    "   \n",
    "def load(direc):\n",
    "    examples = []\n",
    "    fids  = []\n",
    "    values = []\n",
    "    for each in os.listdir(direc):        \n",
    "        if '.npy' in each:\n",
    "            fids.append(each.split('_')[1][:-4])\n",
    "            examples.extend(np.load(direc+'/'+each))\n",
    "            with open(direc+'/'+each[:-4]+'.json', 'r') as infile:\n",
    "                values.extend(json.load(infile))\n",
    "    return examples,fids,values\n",
    "\n",
    "trainexamples, trainfids, trainvalues = load('../../../data/feature2/cv1/train')\n",
    "\n",
    "trainlabels, trainfeatures = [], []\n",
    "for each in trainexamples:\n",
    "    trainfeatures.append(each[1:])\n",
    "    trainlabels.append(each[0])\n",
    "\n",
    "testexamples, testfids, testvalues = load('../../../data/feature2/cv1/test')\n",
    "testfeatures, testlabels = [], []\n",
    "for each in testexamples:\n",
    "    testfeatures.append(each[1:])\n",
    "    testlabels.append(each[0])\n",
    "assert(len(trainvalues)==len(trainlabels))\n",
    "assert(len(testvalues)==len(testlabels))\n",
    "print len(trainfeatures[0])"
   ]
  },
  {
   "cell_type": "code",
   "execution_count": 2,
   "metadata": {
    "collapsed": false
   },
   "outputs": [
    {
     "name": "stdout",
     "output_type": "stream",
     "text": [
      "[(1.1923829694449051e-08, 3555), (2.4467517810758919e-08, 3585), (2.4467517810758919e-08, 5893), (4.1784389078532852e-08, 6320), (6.6624873313312662e-08, 2177), (6.6624873313312662e-08, 2523), (6.6624873313312662e-08, 5378), (6.6624873313312662e-08, 6273), (6.6624873313312662e-08, 8676), (1.3340702227767828e-07, 3), (1.3340702227767828e-07, 1972), (2.55267335681807e-07, 6083), (3.0639493315035796e-07, 1239), (3.0639493315035796e-07, 2459), (3.0639493315035796e-07, 5060), (3.0639493315035796e-07, 11543), (3.3470272728375328e-07, 5024), (4.7921680341653488e-07, 4540), (4.7921680341653488e-07, 5977), (4.7921680341653488e-07, 6847)]\n"
     ]
    }
   ],
   "source": [
    "#select k best\n",
    "import numpy as np\n",
    "trainlabels_content = map(lambda x: 1 if x==2 else 0 , trainlabels)\n",
    "tf = np.array(trainfeatures)\n",
    "from sklearn.metrics import mutual_info_score\n",
    "res =[]\n",
    "for i in range(tf.shape[0]):\n",
    "    res.append((mutual_info_score(trainlabels_content, tf.transpose()[i,:].transpose(), contingency=None),i))\n",
    "print sorted(res)[:20]"
   ]
  },
  {
   "cell_type": "code",
   "execution_count": 14,
   "metadata": {
    "collapsed": false
   },
   "outputs": [
    {
     "name": "stdout",
     "output_type": "stream",
     "text": [
      "(5.7182885946676721e-05, 12675) (0.00018493555232806588, 6119) (7.6991554668554354e-05, 5688)\n"
     ]
    }
   ],
   "source": [
    "\n",
    "import json\n",
    "with open('../../../data/feature2/cv1/train/featurenames.json','r') as infile:\n",
    "    data = json.load(infile)\n",
    "#sorted(zip(res,data))[-20:]\n",
    "d = dict(zip(data,res))\n",
    "print d['BOW_share'], d['BOW_Share'], d['BOW_Related']\n",
    "stopwords = {each:0 for each in [\"a\", \"about\", \"above\", \"above\", \"across\", \"after\", \"afterwards\", \"again\", \"against\", \"all\", \"almost\", \"alone\", \"along\", \"already\", \"also\",\"although\",\"always\",\"am\",\"among\", \"amongst\", \"amoungst\", \"amount\",  \"an\", \"and\", \"another\", \"any\",\"anyhow\",\"anyone\",\"anything\",\"anyway\", \"anywhere\", \"are\", \"around\", \"as\",  \"at\", \"back\",\"be\",\"became\", \"because\",\"become\",\"becomes\", \"becoming\", \"been\", \"before\", \"beforehand\", \"behind\", \"being\", \"below\", \"beside\", \"besides\", \"between\", \"beyond\", \"bill\", \"both\", \"bottom\",\"but\", \"by\", \"call\", \"can\", \"cannot\", \"cant\", \"co\", \"con\", \"could\", \"couldnt\", \"cry\", \"de\", \"describe\", \"detail\", \"do\", \"done\", \"down\", \"due\", \"during\", \"each\", \"eg\", \"eight\", \"either\", \"eleven\",\"else\", \"elsewhere\", \"empty\", \"enough\", \"etc\", \"even\", \"ever\", \"every\", \"everyone\", \"everything\", \"everywhere\", \"except\", \"few\", \"fifteen\", \"fify\", \"fill\", \"find\", \"fire\", \"first\", \"five\", \"for\", \"former\", \"formerly\", \"forty\", \"found\", \"four\", \"from\", \"front\", \"full\", \"further\", \"get\", \"give\", \"go\", \"had\", \"has\", \"hasnt\", \"have\", \"he\", \"hence\", \"her\", \"here\", \"hereafter\", \"hereby\", \"herein\", \"hereupon\", \"hers\", \"herself\", \"him\", \"himself\", \"his\", \"how\", \"however\", \"hundred\", \"ie\", \"if\", \"in\", \"inc\", \"indeed\", \"interest\", \"into\", \"is\", \"it\", \"its\", \"itself\", \"keep\", \"last\", \"latter\", \"latterly\", \"least\", \"less\", \"ltd\", \"made\", \"many\", \"may\", \"me\", \"meanwhile\", \"might\", \"mill\", \"mine\", \"more\", \"moreover\", \"most\", \"mostly\", \"move\", \"much\", \"must\", \"my\", \"myself\", \"name\", \"namely\", \"neither\", \"never\", \"nevertheless\", \"next\", \"nine\", \"no\", \"nobody\", \"none\", \"noone\", \"nor\", \"not\", \"nothing\", \"now\", \"nowhere\", \"of\", \"off\", \"often\", \"on\", \"once\", \"one\", \"only\", \"onto\", \"or\", \"other\", \"others\", \"otherwise\", \"our\", \"ours\", \"ourselves\", \"out\", \"over\", \"own\",\"part\", \"per\", \"perhaps\", \"please\", \"put\", \"rather\", \"re\", \"same\", \"see\", \"seem\", \"seemed\", \"seeming\", \"seems\", \"serious\", \"several\", \"she\", \"should\", \"show\", \"side\", \"since\", \"sincere\", \"six\", \"sixty\", \"so\", \"some\", \"somehow\", \"someone\", \"something\", \"sometime\", \"sometimes\", \"somewhere\", \"still\", \"such\", \"system\", \"take\", \"ten\", \"than\", \"that\", \"the\", \"their\", \"them\", \"themselves\", \"then\", \"thence\", \"there\", \"thereafter\", \"thereby\", \"therefore\", \"therein\", \"thereupon\", \"these\", \"they\", \"thickv\", \"thin\", \"third\", \"this\", \"those\", \"though\", \"three\", \"through\", \"throughout\", \"thru\", \"thus\", \"to\", \"together\", \"too\", \"top\", \"toward\", \"towards\", \"twelve\", \"twenty\", \"two\", \"un\", \"under\", \"until\", \"up\", \"upon\", \"us\", \"very\", \"via\", \"was\", \"we\", \"well\", \"were\", \"what\", \"whatever\", \"when\", \"whence\", \"whenever\", \"where\", \"whereafter\", \"whereas\", \"whereby\", \"wherein\", \"whereupon\", \"wherever\", \"whether\", \"which\", \"while\", \"whither\", \"who\", \"whoever\", \"whole\", \"whom\", \"whose\", \"why\", \"will\", \"with\", \"within\", \"without\", \"would\", \"yet\", \"you\", \"your\", \"yours\", \"yourself\", \"yourselves\", \"the\"]}"
   ]
  },
  {
   "cell_type": "code",
   "execution_count": 9,
   "metadata": {
    "collapsed": false
   },
   "outputs": [
    {
     "name": "stdout",
     "output_type": "stream",
     "text": [
      "12042 32 826\n"
     ]
    },
    {
     "ename": "MemoryError",
     "evalue": "",
     "output_type": "error",
     "traceback": [
      "\u001b[1;31m---------------------------------------------------------------------------\u001b[0m",
      "\u001b[1;31mMemoryError\u001b[0m                               Traceback (most recent call last)",
      "\u001b[1;32m<ipython-input-9-797c2cb33921>\u001b[0m in \u001b[0;36m<module>\u001b[1;34m()\u001b[0m\n\u001b[0;32m      6\u001b[0m \u001b[1;32mimport\u001b[0m \u001b[0mmatplotlib\u001b[0m\u001b[1;33m.\u001b[0m\u001b[0mpyplot\u001b[0m \u001b[1;32mas\u001b[0m \u001b[0mplt\u001b[0m\u001b[1;33m\u001b[0m\u001b[0m\n\u001b[0;32m      7\u001b[0m \u001b[0mpca\u001b[0m \u001b[1;33m=\u001b[0m \u001b[0mPCA\u001b[0m\u001b[1;33m(\u001b[0m\u001b[0mn_components\u001b[0m\u001b[1;33m=\u001b[0m\u001b[1;36m2\u001b[0m\u001b[1;33m)\u001b[0m\u001b[1;33m\u001b[0m\u001b[0m\n\u001b[1;32m----> 8\u001b[1;33m \u001b[0mtrainfeatures1\u001b[0m \u001b[1;33m=\u001b[0m \u001b[0mnormalize\u001b[0m\u001b[1;33m(\u001b[0m\u001b[0mtrainfeatures\u001b[0m\u001b[1;33m)\u001b[0m\u001b[1;33m\u001b[0m\u001b[0m\n\u001b[0m\u001b[0;32m      9\u001b[0m \u001b[0mX\u001b[0m \u001b[1;33m=\u001b[0m \u001b[0mpca\u001b[0m\u001b[1;33m.\u001b[0m\u001b[0mfit_transform\u001b[0m\u001b[1;33m(\u001b[0m\u001b[0mtrainfeatures1\u001b[0m\u001b[1;33m)\u001b[0m\u001b[1;33m\u001b[0m\u001b[0m\n\u001b[0;32m     10\u001b[0m \u001b[1;32massert\u001b[0m\u001b[1;33m(\u001b[0m\u001b[0mX\u001b[0m\u001b[1;33m.\u001b[0m\u001b[0mshape\u001b[0m\u001b[1;33m[\u001b[0m\u001b[1;36m1\u001b[0m\u001b[1;33m]\u001b[0m \u001b[1;33m==\u001b[0m \u001b[1;36m2\u001b[0m\u001b[1;33m)\u001b[0m\u001b[1;33m\u001b[0m\u001b[0m\n",
      "\u001b[1;32m/home/gowthamrang/anaconda2/lib/python2.7/site-packages/scikit_learn-0.16.1-py2.7-linux-x86_64.egg/sklearn/preprocessing/data.pyc\u001b[0m in \u001b[0;36mnormalize\u001b[1;34m(X, norm, axis, copy)\u001b[0m\n\u001b[0;32m    600\u001b[0m         \u001b[1;32mraise\u001b[0m \u001b[0mValueError\u001b[0m\u001b[1;33m(\u001b[0m\u001b[1;34m\"'%d' is not a supported axis\"\u001b[0m \u001b[1;33m%\u001b[0m \u001b[0maxis\u001b[0m\u001b[1;33m)\u001b[0m\u001b[1;33m\u001b[0m\u001b[0m\n\u001b[0;32m    601\u001b[0m \u001b[1;33m\u001b[0m\u001b[0m\n\u001b[1;32m--> 602\u001b[1;33m     \u001b[0mX\u001b[0m \u001b[1;33m=\u001b[0m \u001b[0mcheck_array\u001b[0m\u001b[1;33m(\u001b[0m\u001b[0mX\u001b[0m\u001b[1;33m,\u001b[0m \u001b[0msparse_format\u001b[0m\u001b[1;33m,\u001b[0m \u001b[0mcopy\u001b[0m\u001b[1;33m=\u001b[0m\u001b[0mcopy\u001b[0m\u001b[1;33m)\u001b[0m\u001b[1;33m\u001b[0m\u001b[0m\n\u001b[0m\u001b[0;32m    603\u001b[0m     \u001b[0mwarn_if_not_float\u001b[0m\u001b[1;33m(\u001b[0m\u001b[0mX\u001b[0m\u001b[1;33m,\u001b[0m \u001b[1;34m'The normalize function'\u001b[0m\u001b[1;33m)\u001b[0m\u001b[1;33m\u001b[0m\u001b[0m\n\u001b[0;32m    604\u001b[0m     \u001b[1;32mif\u001b[0m \u001b[0maxis\u001b[0m \u001b[1;33m==\u001b[0m \u001b[1;36m0\u001b[0m\u001b[1;33m:\u001b[0m\u001b[1;33m\u001b[0m\u001b[0m\n",
      "\u001b[1;32m/home/gowthamrang/anaconda2/lib/python2.7/site-packages/scikit_learn-0.16.1-py2.7-linux-x86_64.egg/sklearn/utils/validation.pyc\u001b[0m in \u001b[0;36mcheck_array\u001b[1;34m(array, accept_sparse, dtype, order, copy, force_all_finite, ensure_2d, allow_nd, ensure_min_samples, ensure_min_features)\u001b[0m\n\u001b[0;32m    335\u001b[0m     \u001b[1;32melse\u001b[0m\u001b[1;33m:\u001b[0m\u001b[1;33m\u001b[0m\u001b[0m\n\u001b[0;32m    336\u001b[0m         \u001b[1;32mif\u001b[0m \u001b[0mensure_2d\u001b[0m\u001b[1;33m:\u001b[0m\u001b[1;33m\u001b[0m\u001b[0m\n\u001b[1;32m--> 337\u001b[1;33m             \u001b[0marray\u001b[0m \u001b[1;33m=\u001b[0m \u001b[0mnp\u001b[0m\u001b[1;33m.\u001b[0m\u001b[0matleast_2d\u001b[0m\u001b[1;33m(\u001b[0m\u001b[0marray\u001b[0m\u001b[1;33m)\u001b[0m\u001b[1;33m\u001b[0m\u001b[0m\n\u001b[0m\u001b[0;32m    338\u001b[0m         \u001b[1;32mif\u001b[0m \u001b[0mdtype_numeric\u001b[0m\u001b[1;33m:\u001b[0m\u001b[1;33m\u001b[0m\u001b[0m\n\u001b[0;32m    339\u001b[0m             \u001b[1;32mif\u001b[0m \u001b[0mhasattr\u001b[0m\u001b[1;33m(\u001b[0m\u001b[0marray\u001b[0m\u001b[1;33m,\u001b[0m \u001b[1;34m\"dtype\"\u001b[0m\u001b[1;33m)\u001b[0m \u001b[1;32mand\u001b[0m \u001b[0mgetattr\u001b[0m\u001b[1;33m(\u001b[0m\u001b[0marray\u001b[0m\u001b[1;33m.\u001b[0m\u001b[0mdtype\u001b[0m\u001b[1;33m,\u001b[0m \u001b[1;34m\"kind\"\u001b[0m\u001b[1;33m,\u001b[0m \u001b[0mNone\u001b[0m\u001b[1;33m)\u001b[0m \u001b[1;33m==\u001b[0m \u001b[1;34m\"O\"\u001b[0m\u001b[1;33m:\u001b[0m\u001b[1;33m\u001b[0m\u001b[0m\n",
      "\u001b[1;32m/home/gowthamrang/anaconda2/lib/python2.7/site-packages/numpy/core/shape_base.pyc\u001b[0m in \u001b[0;36matleast_2d\u001b[1;34m(*arys)\u001b[0m\n\u001b[0;32m     98\u001b[0m     \u001b[0mres\u001b[0m \u001b[1;33m=\u001b[0m \u001b[1;33m[\u001b[0m\u001b[1;33m]\u001b[0m\u001b[1;33m\u001b[0m\u001b[0m\n\u001b[0;32m     99\u001b[0m     \u001b[1;32mfor\u001b[0m \u001b[0mary\u001b[0m \u001b[1;32min\u001b[0m \u001b[0marys\u001b[0m\u001b[1;33m:\u001b[0m\u001b[1;33m\u001b[0m\u001b[0m\n\u001b[1;32m--> 100\u001b[1;33m         \u001b[0mary\u001b[0m \u001b[1;33m=\u001b[0m \u001b[0masanyarray\u001b[0m\u001b[1;33m(\u001b[0m\u001b[0mary\u001b[0m\u001b[1;33m)\u001b[0m\u001b[1;33m\u001b[0m\u001b[0m\n\u001b[0m\u001b[0;32m    101\u001b[0m         \u001b[1;32mif\u001b[0m \u001b[0mlen\u001b[0m\u001b[1;33m(\u001b[0m\u001b[0mary\u001b[0m\u001b[1;33m.\u001b[0m\u001b[0mshape\u001b[0m\u001b[1;33m)\u001b[0m \u001b[1;33m==\u001b[0m \u001b[1;36m0\u001b[0m\u001b[1;33m:\u001b[0m\u001b[1;33m\u001b[0m\u001b[0m\n\u001b[0;32m    102\u001b[0m             \u001b[0mresult\u001b[0m \u001b[1;33m=\u001b[0m \u001b[0mary\u001b[0m\u001b[1;33m.\u001b[0m\u001b[0mreshape\u001b[0m\u001b[1;33m(\u001b[0m\u001b[1;36m1\u001b[0m\u001b[1;33m,\u001b[0m \u001b[1;36m1\u001b[0m\u001b[1;33m)\u001b[0m\u001b[1;33m\u001b[0m\u001b[0m\n",
      "\u001b[1;32m/home/gowthamrang/anaconda2/lib/python2.7/site-packages/numpy/core/numeric.pyc\u001b[0m in \u001b[0;36masanyarray\u001b[1;34m(a, dtype, order)\u001b[0m\n\u001b[0;32m    523\u001b[0m \u001b[1;33m\u001b[0m\u001b[0m\n\u001b[0;32m    524\u001b[0m     \"\"\"\n\u001b[1;32m--> 525\u001b[1;33m     \u001b[1;32mreturn\u001b[0m \u001b[0marray\u001b[0m\u001b[1;33m(\u001b[0m\u001b[0ma\u001b[0m\u001b[1;33m,\u001b[0m \u001b[0mdtype\u001b[0m\u001b[1;33m,\u001b[0m \u001b[0mcopy\u001b[0m\u001b[1;33m=\u001b[0m\u001b[0mFalse\u001b[0m\u001b[1;33m,\u001b[0m \u001b[0morder\u001b[0m\u001b[1;33m=\u001b[0m\u001b[0morder\u001b[0m\u001b[1;33m,\u001b[0m \u001b[0msubok\u001b[0m\u001b[1;33m=\u001b[0m\u001b[0mTrue\u001b[0m\u001b[1;33m)\u001b[0m\u001b[1;33m\u001b[0m\u001b[0m\n\u001b[0m\u001b[0;32m    526\u001b[0m \u001b[1;33m\u001b[0m\u001b[0m\n\u001b[0;32m    527\u001b[0m \u001b[1;32mdef\u001b[0m \u001b[0mascontiguousarray\u001b[0m\u001b[1;33m(\u001b[0m\u001b[0ma\u001b[0m\u001b[1;33m,\u001b[0m \u001b[0mdtype\u001b[0m\u001b[1;33m=\u001b[0m\u001b[0mNone\u001b[0m\u001b[1;33m)\u001b[0m\u001b[1;33m:\u001b[0m\u001b[1;33m\u001b[0m\u001b[0m\n",
      "\u001b[1;31mMemoryError\u001b[0m: "
     ]
    }
   ],
   "source": [
    "#expolaratory analysis\n",
    "#does feature space capture \n",
    "print trainlabels.count(0),trainlabels.count(1), trainlabels.count(2)\n",
    "from sklearn.decomposition import PCA\n",
    "from sklearn.preprocessing import normalize\n",
    "import matplotlib.pyplot as plt\n",
    "pca = PCA(n_components=2)\n",
    "trainfeatures1 = normalize(trainfeatures)\n",
    "X = pca.fit_transform(trainfeatures1)\n",
    "assert(X.shape[1] == 2)\n",
    "\n",
    "d = {0:[],1:[],2:[],3:[]}\n",
    "for i,each in enumerate(trainexamples):\n",
    "    d[each[0]].append(X[i,:])\n",
    "\n",
    "x,y = zip(*d[0])\n",
    "plt.plot(x,y,'bo')\n",
    "x,y = zip(*d[1])\n",
    "plt.plot(x,y,'go')\n",
    "x,y = zip(*d[2])\n",
    "plt.plot(x,y,'ro')\n",
    "plt.show()"
   ]
  },
  {
   "cell_type": "code",
   "execution_count": 5,
   "metadata": {
    "collapsed": false
   },
   "outputs": [
    {
     "name": "stdout",
     "output_type": "stream",
     "text": [
      "0.616766467066\n",
      "--------Title---------\n",
      "0.456140350877\n",
      "---------Content---------\n",
      "-------------Error number 0------------\n",
      "\n",
      "                            A mother has chained herself to the gates of the Department of Education offices in a bid to have her autistic son’s educational needs met closer to home.\n",
      "-------------Error number 1------------\n",
      "“[My son] has autism and requires a home tuition grant in order to return to his previous school (Jonix educational services) but the grant is expensive.\n",
      "-------------Error number 2------------\n",
      "“[The Department of Eduaction] will send him anywhere.\n",
      "-------------Error number 3------------\n",
      "Having previously turned down an offer of a school 15 miles away, Ms Byrne explained her reason to protest.\n",
      "-------------Error number 4------------\n",
      "The Department of Education said it had received a home tuition grant application from Ms Byrne but that it was incomplete.\n"
     ]
    }
   ],
   "source": [
    "#Content extractor\n",
    "from sklearn.ensemble import RandomForestClassifier\n",
    "from sklearn.metrics import f1_score\n",
    "\n",
    "trainlabels_title = map(lambda x: 1 if x==1 else 0 , trainlabels)\n",
    "testlabels_title = map(lambda x: 1 if x==1 else 0 , testlabels)\n",
    "\n",
    "\n",
    "trainlabels_content = map(lambda x: 1 if x==2 else 0 , trainlabels)\n",
    "testlabels_content = map(lambda x: 1 if x==2 else 0 , testlabels)\n",
    "\n",
    "#Random Forest\n",
    "np.random.seed(3)\n",
    "rf_c = RandomForestClassifier()\n",
    "rf_c.fit(trainfeatures,trainlabels_content)\n",
    "p1_rf_c = rf_c.predict(testfeatures)\n",
    "assert(len(p1_rf_c)==len(testlabels_content))\n",
    "print f1_score(p1_rf_c,testlabels_content)\n",
    "print '--------Title---------'\n",
    "rf_t = RandomForestClassifier()\n",
    "rf_t.fit(trainfeatures,trainlabels_title)\n",
    "p1_rf_t = rf_t.predict(testfeatures)\n",
    "\n",
    "assert(len(p1_rf_t)==len(testlabels_content))\n",
    "print f1_score(p1_rf_t,testlabels_title)\n",
    "\n",
    "\n",
    "incorrect1_rf_c = [1 if x!=y else 0 for x,y in zip(p1_rf_c,testlabels_content)]\n",
    "cnt = 0\n",
    "print '---------Content---------'\n",
    "for i,each in enumerate(incorrect1_rf_c):\n",
    "    if each == 1 and testvalues[i] and len(testvalues[i].strip())>0:\n",
    "        print '-------------Error number %d------------' %cnt\n",
    "        print testvalues[i]\n",
    "        if cnt>3:\n",
    "            break;\n",
    "        cnt+=1\n"
   ]
  },
  {
   "cell_type": "code",
   "execution_count": 7,
   "metadata": {
    "collapsed": false
   },
   "outputs": [
    {
     "name": "stdout",
     "output_type": "stream",
     "text": [
      "-----------Storing Content No 1-----------\n",
      "-----------Storing Title No 1-----------\n",
      "Pic: Upbeat Paul O'Connell posts hilarious image on Instagram following...\n",
      "                              \n",
      "                                    Inside Ireland's Largest Newsroom: The Murder of Garda Golden \n",
      "                                    Video: Hotel boss quits after sectarian rant at pub bouncers \n",
      "                                    In Pictures: Carrickmines fire tragedy claims lives of ten people \n",
      "                                    Culture Night 2015: Hundreds gather for events across Ireland \n",
      "-----------Storing Content No 2-----------\n",
      "-----------Storing Title No 2-----------\n",
      "\n",
      "-----------Storing Content No 3-----------\n",
      "-----------Storing Title No 3-----------\n",
      "Courthouse Opponents: Kill the Bond ... and Wait \n",
      "-----------Storing Content No 4-----------\n",
      "-----------Storing Title No 4-----------\n",
      "Sign in to complete account merge \n",
      "-----------Storing Content No 5-----------\n",
      "-----------Storing Title No 5-----------\n",
      "\n",
      "-----------Storing Content No 6-----------\n",
      "-----------Storing Title No 6-----------\n",
      "\n",
      "-----------Storing Content No 7-----------\n",
      "-----------Storing Title No 7-----------\n",
      "\n",
      "-----------Storing Content No 8-----------\n",
      "-----------Storing Title No 8-----------\n",
      "Police: 1 Killed, 2 Injured In Crash Near Grayslake \n",
      "-----------Storing Content No 9-----------\n",
      "-----------Storing Title No 9-----------\n",
      "\n",
      "-----------Storing Content No 10-----------\n",
      "-----------Storing Title No 10-----------\n",
      "\n",
      "-----------Storing Content No 11-----------\n",
      "-----------Storing Title No 11-----------\n",
      "\n",
      "-----------Storing Content No 12-----------\n",
      "-----------Storing Title No 12-----------\n",
      "\n",
      "-----------Storing Content No 13-----------\n",
      "-----------Storing Title No 13-----------\n",
      "\n",
      "Two men arrested in Tobago after murder of British couple\n",
      " \n",
      "-----------Storing Content No 14-----------\n",
      "-----------Storing Title No 14-----------\n",
      "\n",
      "-----------Storing Content No 15-----------\n",
      "-----------Storing Title No 15-----------\n",
      "High court throws out conviction for Facebook threats \n",
      "-----------Storing Content No 16-----------\n",
      "-----------Storing Title No 16-----------\n",
      "\n",
      "-----------Storing Content No 17-----------\n",
      "-----------Storing Title No 17-----------\n",
      "A corrections officer's shift is filled with potential peril \n",
      "-----------Storing Content No 18-----------\n",
      "-----------Storing Title No 18-----------\n",
      "The Latest: Condition of one of shooting victims improves \n",
      "-----------Storing Content No 19-----------\n",
      "-----------Storing Title No 19-----------\n",
      "Retired officer thinks he’s found bullet markmade by slain officer \n",
      "-----------Storing Content No 20-----------\n",
      "-----------Storing Title No 20-----------\n",
      "Police Say Driver Who Hit, Killed Cyclist In Fort Collins May Have Fallen Asleep \n",
      "-----------Storing Content No 21-----------\n",
      "-----------Storing Title No 21-----------\n",
      "\n",
      "-----------Storing Content No 22-----------\n",
      "-----------Storing Title No 22-----------\n",
      "\n",
      "-----------Storing Content No 23-----------\n",
      "-----------Storing Title No 23-----------\n",
      "Sign in to complete account merge \n",
      "-----------Storing Content No 24-----------\n",
      "-----------Storing Title No 24-----------\n",
      "\n",
      "-----------Storing Content No 25-----------\n",
      "-----------Storing Title No 25-----------\n",
      "\n",
      "-----------Storing Content No 26-----------\n",
      "-----------Storing Title No 26-----------\n",
      "Visual Politics of Profile Photos: Walter Scott and Michael Slager Side-by-Side \n",
      "-----------Storing Content No 27-----------\n",
      "-----------Storing Title No 27-----------\n",
      "Stempniak scores in OT to give Devils 2-1 win over Rangers \n",
      "-----------Storing Content No 28-----------\n",
      "-----------Storing Title No 28-----------\n",
      "Woman hopeful for answers in brother's suspicious death in Kalamazoo \n",
      "-----------Storing Content No 29-----------\n",
      "-----------Storing Title No 29-----------\n",
      "\n",
      "-----------Storing Content No 30-----------\n",
      "-----------Storing Title No 30-----------\n",
      "Suspect in Jewish center shootings 'entrenched in the hate movement' \n",
      "-----------Storing Content No 31-----------\n",
      "-----------Storing Title No 31-----------\n",
      "\n",
      "-----------Storing Content No 32-----------\n",
      "-----------Storing Title No 32-----------\n",
      "72-Year Old Father Accused of Shooting & Killing Son in Fresno \n",
      "-----------Storing Content No 33-----------\n",
      "-----------Storing Title No 33-----------\n",
      "\n",
      "-----------Storing Content No 34-----------\n",
      "-----------Storing Title No 34-----------\n",
      "\n",
      "-----------Storing Content No 35-----------\n",
      "-----------Storing Title No 35-----------\n",
      "Court records: Ohio man on electronic monitor raped teen \n",
      "-----------Storing Content No 36-----------\n",
      "-----------Storing Title No 36-----------\n",
      "\n",
      "-----------Storing Content No 37-----------\n",
      "-----------Storing Title No 37-----------\n",
      "\n",
      "-----------Storing Content No 38-----------\n",
      "-----------Storing Title No 38-----------\n",
      "\n",
      "-----------Storing Content No 39-----------\n",
      "-----------Storing Title No 39-----------\n",
      "\n",
      "-----------Storing Content No 40-----------\n",
      "-----------Storing Title No 40-----------\n",
      "\n",
      "-----------Storing Content No 41-----------\n",
      "-----------Storing Title No 41-----------\n",
      "\n",
      "-----------Storing Content No 42-----------\n",
      "-----------Storing Title No 42-----------\n",
      "Students' reactions to 'Between the World and Me' \n",
      "-----------Storing Content No 43-----------\n",
      "-----------Storing Title No 43-----------\n",
      "\n",
      "Dearica Hamby scores 15 points, Stars beat Storm 59-58\n",
      " \n",
      "-----------Storing Content No 44-----------\n",
      "-----------Storing Title No 44-----------\n",
      "\n",
      "-----------Storing Content No 45-----------\n",
      "-----------Storing Title No 45-----------\n",
      "\n",
      "-----------Storing Content No 46-----------\n",
      "-----------Storing Title No 46-----------\n",
      "\n"
     ]
    }
   ],
   "source": [
    "#combine and store them\n",
    "import codecs\n",
    "\n",
    "\n",
    "generator = loadtest('../../../data/feature/cv1/test')\n",
    "v = 0\n",
    "for ex,fid,val in generator:\n",
    "    v+=1\n",
    "    pred_c = rf_c.predict(ex.transpose()[1:,].transpose())\n",
    "    pred_t = rf_t.predict(ex.transpose()[1:,].transpose())\n",
    "    content = ''\n",
    "    title = ''\n",
    "    for y_c,y_t,text in zip(pred_c,pred_t,val):\n",
    "        if len(text) == 0:\n",
    "            continue\n",
    "        if y_c == 1:\n",
    "            content += text+' '\n",
    "        if y_t == 1:\n",
    "            title += text+' '\n",
    "\n",
    "    print '-----------Storing Content No %d-----------' %v\n",
    "    f = codecs.open('../../../data/NewsExtract/Body/'+fid,'w', \"utf-8\")\n",
    "    f.write(content)\n",
    "    f.close()\n",
    "    print '-----------Storing Title No %d-----------' %v\n",
    "    print title\n",
    "    f = codecs.open('../../../data/NewsExtract/Title/'+fid,'w', \"utf-8\")\n",
    "    f.write(title)\n",
    "    f.close()\n"
   ]
  },
  {
   "cell_type": "code",
   "execution_count": 3,
   "metadata": {
    "collapsed": false
   },
   "outputs": [
    {
     "name": "stdout",
     "output_type": "stream",
     "text": [
      "---------BODY-------\n",
      "565387\n",
      "“From our bench, you could see it going in the whole time,” Stastny said. “Their goalie didn’t see it at all.” The Blues went into the second intermission with that advantage, but added to it after Edmonton’s Mark Fayne was whistled for holding just 3:09 into the third period. The Blues had built a 3-1 lead on a power-play goal by Paul Stastny with 15 minutes, 40 seconds left in regulation, but Edmonton trimmed its deficit to 3-2 with a goal from Taylor Hall with 13:23 to play. Or should we say kneeling? The Blues have torn up Edmonton and so has Tarasenko. His goal Thursday gave him 10 points (six goals, four assists) in 10 career games against the Oilers. But they did it in come-from-behind fashion. With Tarasenko’s left knee touching the ice, he ripped a shot estimated at 55 feet that sizzled past Talbot. A big smile unfolded on Tarasenko’s face, and he pumped his fist, as the Blues built a 2-1 lead with 3:59 left in the second period. Well, the Blues pulled another one out of their hat with the STL Line on the ice. On Tuesday in Calgary, the Flames needed just 1:14 before Mason Raymond put them on the board first. Two days later in Edmonton, the Oilers got one just 1:36 in from Lauri Korpikoski to open the scoring. Lehtera’s line rode into the offensive zone together. The puck went in a direct line from Lehtera to Jaden Schwartz to Troy Brouwer, who put a shot on goalie Cam Talbot. The rebound ricocheted to Talbot’s left, where Lehtera was standing and knocked in the second chance for a 1-1 tie just 3:14 into the period. His teammates knew it was headed for the back of the net. The Blues’ penalty-killing unit kept them in the first period of Tuesday’s game against Calgary, killing off three of the four minors. But the Blues had a quick response, with Jori Lehtera scoring his first goal of the season. “It’s a really important win, especially this home opener,” Blues forward Vladimir Tarasenko said. “It was a huge game for us and we were ready for Edmonton’s compete level. They play way harder right now. I’m really happy to have these two points.” “Yeah, we’re going to do that more and more,” Hitchcock said. “That was a helluva of a line last year. I thought changing it up gave a couple of guys even more energy.” “It’s hard to see the puck, so I just kind of put my stick and skate in the way to redirect it,” Stastny said. “He makes a good heads-up play, it just hits me and goes in.” “I like the fact that we’ve gotten down in games and not really (over) reacted to it, just sort of stayed the course,” Steen said. The NHL’s No. 1 faceoff team going into Thursday’s game had won just 13 of 35 draws before Lehtera and Edmonton’s Mark Letestu dropped into the dot. They battled, the puck popped loose, and an alert Jay Bouwmeester pushed it back to Tarasenko, who was at the top of the circle. The PK was put to work in the second period Thursday against Edmonton, as Colton Parayko and Tarasenko were whistled for back-to-back penalties. When Tarasenko exited the box, the unit was three for three against the Oilers, and a short time later, Tarasenko made amends. “That’s a nice goal to get toward the end of the game,” Steen said. “It was a momentum builder for us, killing off those penalties and take it the other way. It gave us a little breathing room.” “Good job by my teammates,” Tarasenko said. “Good draw by Jori and nice pass by Bouw.” Set up in the offensive zone, Steen feathered a pass just over the top of the crease and Stastny was standing in perfect position to punch the puck past Talbot for his first of the season and a 3-1 lead. The Blues’ second straight road win, a 4-2 victory, wasn’t wrapped up until Alexander Steen put it away with his second goal of the season with 2 minutes, 9 seconds left in regulation. Hitchcock said the STL Line was reunited by design. Hall cut it to 3-2 when, after a face-off, Parayko failed to corral a loose puck. The Oilers forward zipped past defenseman Carl Gunnarsson and beat Blues goalie Brian Elliott for a 3-2 game. But Elliott finished with 24 saves for his sixth straight win over Edmonton, and the Blues improved to 2-1 on their season-long, six-game road trip, which will continue Friday in Vancouver. The Blues have now won eight straight over Edmonton and, going back to 2009, they are 19-2-1 in their last 22 games, including a sparkling 9-1-1 at Rexall Place in that stretch. In every game this season, the Blues have kept the top line of Tarasenko, Stastny and Steen together. But with 4:02 left and a face-off looming in the offensive zone, Hitchcock sent out the “STL Line” of Schwartz, Lehtera and Tarasenko, who were magical at times last year. The Blues put themselves in the penalty box twice in the last 10:42 of the game — Robert Bortuzzo for holding and Scottie Upshall for tripping — giving the Oilers chances. But after the Blues erased both penalties, Steen scored and the visitors held on, albeit with a much harder effort than they’ve needed in the past. The Blues have now played four games in 2015-16 and trailed 1-0 in each. Introducing No. 1 overall pick Connor McDavid to the locals for the first time, and playing in their new orange sweaters, the winless Oilers gave the visitors a rare fit. \n",
      "------------------\n",
      " EDMONTON, Alberta • The Blues have had many easy nights in Edmonton, but Thursday night, the final home opener in Rexall Place history, was not one of them.\n",
      " \n",
      " Introducing No. 1 overall pick Connor McDavid to the locals for the first time, and playing in their new orange sweaters, the winless Oilers gave the visitors a rare fit.\n",
      " \n",
      " The Blues’ second straight road win, a 4-2 victory, wasn’t wrapped up until Alexander Steen put it away with his second goal of the season with 2 minutes, 9 seconds left in regulation.\n",
      " \n",
      " “It’s a really important win, especially this home opener,” Blues forward Vladimir Tarasenko said. “It was a huge game for us and we were ready for Edmonton’s compete level. They play way harder right now. I’m really happy to have these two points.”\n",
      " \n",
      " The Blues had built a 3-1 lead on a power-play goal by Paul Stastny with 15 minutes, 40 seconds left in regulation, but Edmonton trimmed its deficit to 3-2 with a goal from Taylor Hall with 13:23 to play.\n",
      " \n",
      " The Blues put themselves in the penalty box twice in the last 10:42 of the game — Robert Bortuzzo for holding and Scottie Upshall for tripping — giving the Oilers chances. But after the Blues erased both penalties, Steen scored and the visitors held on, albeit with a much harder effort than they’ve needed in the past.\n",
      " \n",
      " “That’s a nice goal to get toward the end of the game,” Steen said. “It was a momentum builder for us, killing off those penalties and take it the other way. It gave us a little breathing room.”\n",
      " \n",
      " The Blues have now won eight straight over Edmonton and, going back to 2009, they are 19-2-1 in their last 22 games, including a sparkling 9-1-1 at Rexall Place in that stretch.\n",
      " \n",
      " But they did it in come-from-behind fashion.\n",
      " \n",
      " The Blues have now played four games in 2015-16 and trailed 1-0 in each.\n",
      " \n",
      " On Tuesday in Calgary, the Flames needed just 1:14 before Mason Raymond put them on the board first. Two days later in Edmonton, the Oilers got one just 1:36 in from Lauri Korpikoski to open the scoring.\n",
      " \n",
      " But the Blues had a quick response, with Jori Lehtera scoring his first goal of the season.\n",
      " \n",
      " Lehtera’s line rode into the offensive zone together. The puck went in a direct line from Lehtera to Jaden Schwartz to Troy Brouwer, who put a shot on goalie Cam Talbot. The rebound ricocheted to Talbot’s left, where Lehtera was standing and knocked in the second chance for a 1-1 tie just 3:14 into the period.\n",
      " \n",
      " “I like the fact that we’ve gotten down in games and not really (over) reacted to it, just sort of stayed the course,” Steen said.\n",
      " \n",
      " The Blues’ penalty-killing unit kept them in the first period of Tuesday’s game against Calgary, killing off three of the four minors.\n",
      " \n",
      " The PK was put to work in the second period Thursday against Edmonton, as Colton Parayko and Tarasenko were whistled for back-to-back penalties. When Tarasenko exited the box, the unit was three for three against the Oilers, and a short time later, Tarasenko made amends.\n",
      " \n",
      " In every game this season, the Blues have kept the top line of Tarasenko, Stastny and Steen together. But with 4:02 left and a face-off looming in the offensive zone, Hitchcock sent out the “STL Line” of Schwartz, Lehtera and Tarasenko, who were magical at times last year.\n",
      " \n",
      " Well, the Blues pulled another one out of their hat with the STL Line on the ice.\n",
      " \n",
      " The NHL’s No. 1 faceoff team going into Thursday’s game had won just 13 of 35 draws before Lehtera and Edmonton’s Mark Letestu dropped into the dot. They battled, the puck popped loose, and an alert Jay Bouwmeester pushed it back to Tarasenko, who was at the top of the circle.\n",
      " \n",
      " Or should we say kneeling?\n",
      " \n",
      " With Tarasenko’s left knee touching the ice, he ripped a shot estimated at 55 feet that sizzled past Talbot. A big smile unfolded on Tarasenko’s face, and he pumped his fist, as the Blues built a 2-1 lead with 3:59 left in the second period.\n",
      " \n",
      " “Good job by my teammates,” Tarasenko said. “Good draw by Jori and nice pass by Bouw.”\n",
      " \n",
      " His teammates knew it was headed for the back of the net.\n",
      " \n",
      " “From our bench, you could see it going in the whole time,” Stastny said. “Their goalie didn’t see it at all.”\n",
      " \n",
      " Hitchcock said the STL Line was reunited by design.\n",
      " \n",
      " “Yeah, we’re going to do that more and more,” Hitchcock said. “That was a helluva of a line last year. I thought changing it up gave a couple of guys even more energy.”\n",
      " \n",
      " The Blues have torn up Edmonton and so has Tarasenko. His goal Thursday gave him 10 points (six goals, four assists) in 10 career games against the Oilers.\n",
      " \n",
      " The Blues went into the second intermission with that advantage, but added to it after Edmonton’s Mark Fayne was whistled for holding just 3:09 into the third period.\n",
      " \n",
      " Set up in the offensive zone, Steen feathered a pass just over the top of the crease and Stastny was standing in perfect position to punch the puck past Talbot for his first of the season and a 3-1 lead.\n",
      " \n",
      " “It’s hard to see the puck, so I just kind of put my stick and skate in the way to redirect it,” Stastny said. “He makes a good heads-up play, it just hits me and goes in.”\n",
      " \n",
      " Hall cut it to 3-2 when, after a face-off, Parayko failed to corral a loose puck. The Oilers forward zipped past defenseman Carl Gunnarsson and beat Blues goalie Brian Elliott for a 3-2 game. But Elliott finished with 24 saves for his sixth straight win over Edmonton, and the Blues improved to 2-1 on their season-long, six-game road trip, which will continue Friday in Vancouver.\n",
      "KKKKKK\n",
      "[(0.9699179580674567, 1.0, 0.9847242931857954)]\n"
     ]
    }
   ],
   "source": [
    "#evaluating ground-truth for \n",
    "import codecs\n",
    "from nltk import word_tokenize\n",
    "import os\n",
    "\n",
    "def compare(grounddirec, direc):\n",
    "    scores = []\n",
    "#     print '---------Title-------'\n",
    "#     for each in os.listdir(direc+'/Title'):\n",
    "#         print each\n",
    "#         fp = codecs.open(direc+'/Title/'+each, \"r\", \"utf-8\")\n",
    "#         pred_title = fp.readlines()\n",
    "#         pred_title = ' '.join(pred_title)\n",
    "#         fp1 = codecs.open(grounddirec+'/Title/'+each+'.groundtruth', \"r\", \"utf-8\")\n",
    "#         groundtruth_title = fp1.readlines()\n",
    "#         groundtruth_title = ' '.join(groundtruth_title)\n",
    "#         print pred_title\n",
    "#         print '------------------'\n",
    "#         print groundtruth_title\n",
    "#         scores.append(fscore(pred_title,groundtruth_title))\n",
    "#     print scores\n",
    "#     return\n",
    "    print '---------BODY-------'\n",
    "    for each in os.listdir(direc+'/Body'):\n",
    "        fp = codecs.open(direc+'/Body/'+each, \"r\", \"utf-8\")\n",
    "        pred_title = fp.readlines()\n",
    "        pred_title = ' '.join(pred_title)\n",
    "        fp1 = codecs.open(grounddirec+'/Body/'+each+'.groundtruth', \"r\", \"utf-8\")\n",
    "        groundtruth_title = fp1.readlines()\n",
    "        groundtruth_title = ' '.join(groundtruth_title)\n",
    "        print each\n",
    "        print pred_title\n",
    "        print '------------------'\n",
    "        print groundtruth_title\n",
    "        \n",
    "        scores.append(fscore(pred_title,groundtruth_title))\n",
    "        break;\n",
    "        \n",
    "    print 'KKKKKK'\n",
    "    print scores\n",
    "    \n",
    "\n",
    "\n",
    "    \n",
    "def fscore(pred,gold):\n",
    "    if pred == '' or gold == '':\n",
    "        return -1,0,0\n",
    "    #print gold\n",
    "    pred,gold = pred.lower(),gold.lower()\n",
    "    #print word_tokenize(pred), word_tokenize(gold), word_tokenize(gold) ==  word_tokenize(pred)\n",
    "    relevant = {}\n",
    "    for each in word_tokenize(gold): \n",
    "        if each not in relevant: relevant[each] = 0\n",
    "        relevant[each]+=1\n",
    "    \n",
    "    retrieved = {}\n",
    "    for each in word_tokenize(pred): \n",
    "        if each not in retrieved: retrieved[each] = 0\n",
    "        retrieved[each]+=1\n",
    "    \n",
    "    prec = 0.0\n",
    "    for each in retrieved:\n",
    "        if each in relevant:\n",
    "            prec+=min(relevant[each],retrieved[each])\n",
    "    rec = prec\n",
    "    s = 0.0\n",
    "    for each in relevant:\n",
    "        s+=relevant[each]\n",
    "    prec/=s\n",
    "    s = 0.0\n",
    "    for each in retrieved: s+=retrieved[each]\n",
    "    rec/=s\n",
    "    return prec,rec, 2*prec*rec/(prec+rec+0.00001)\n",
    "    \n",
    "# content = 'Police said a teenager who was shot in broad daylight has died, and his killer is still on the loose., Carldarius Patrick, 16, was shot in the head along south Ivey Lane at the Ivey on the Lakes apartment complex and rushed to Orlando Regional Medical Center on Monday.Patrick died this week.A police officer at the scene tried to save the teen’s life, keeping him alive until he could be transported to the hospital, but doctors couldn’t save him. Police said two nearby cars had bullet holes and no one has been arrested. It is unclear what led to the shooting. A report says the suspect may have been in a gray or taupe Pontiac Grand Prix. No arrests have been made.Police do not have any suspects in the case. broad daylight has died, and his killer is still on the loose.'\n",
    "# fid = testfids[0]\n",
    "# print fid\n",
    "#print fscore(content,open('../../../data/V2.0/Body/'+fid+'.groundtruth').read())\n",
    "#print fscore('Hello', 'Hello Hello')\n",
    "compare('../../../data/V2.0/', '../../../data/NewsExtract/')\n",
    "\n"
   ]
  },
  {
   "cell_type": "code",
   "execution_count": 75,
   "metadata": {
    "collapsed": false
   },
   "outputs": [
    {
     "name": "stdout",
     "output_type": "stream",
     "text": [
      "{1: 2, 3: 4, 5: 6}\n"
     ]
    }
   ],
   "source": [
    "for each in os.listdir(groundtruthpath+'/Body'):\n",
    "    "
   ]
  },
  {
   "cell_type": "code",
   "execution_count": 71,
   "metadata": {
    "collapsed": false
   },
   "outputs": [
    {
     "name": "stdout",
     "output_type": "stream",
     "text": [
      "[u'/html[1]/body[1]/div[3]/div[2]/div[1]/div[3]/div[1]/div[1]/text()[2]', u'Metro police shot and killed a robbery suspect Sunday night in Nashboro Village after police say the armed teenager opened fire, shooting one officer in the leg.']\n"
     ]
    }
   ],
   "source": [
    "with open('temp.json','r') as fp:\n",
    "        data = json.load(fp)\n",
    "print data[0]"
   ]
  },
  {
   "cell_type": "code",
   "execution_count": 220,
   "metadata": {
    "collapsed": false
   },
   "outputs": [
    {
     "name": "stdout",
     "output_type": "stream",
     "text": [
      "[[ 0.  1.  0.]\n",
      " [ 3.  0.  1.]\n",
      " [ 4.  0.  0.]]\n",
      "[{'tag=font': 1.0}, {'tag=sd': 1.0, 'more': 3.0}, {'more': 4.0}]\n"
     ]
    }
   ],
   "source": [
    "from sklearn.feature_extraction import DictVectorizer\n",
    "v = DictVectorizer(sparse=False)\n",
    "D = [{'tag':'font'},{'tag':'sd','more':(3,)}, {'more':(4,)}]\n",
    "X = v.fit_transform(D)\n",
    "E = [{'tag':'cool'}]\n",
    "#X = v.transform(E)\n",
    "print X\n",
    "print v.inverse_transform(X)\n",
    "# print v.feature_names_\n",
    "# print v.vocabulary_\n"
   ]
  },
  {
   "cell_type": "code",
   "execution_count": 215,
   "metadata": {
    "collapsed": false
   },
   "outputs": [
    {
     "name": "stdout",
     "output_type": "stream",
     "text": [
      "[('id', 'WNHeader')]\n",
      "UPDATE: Arrest made in connection to shooting at Charleston's Re - WOWK 13 Charleston, Huntington WV News, Weather, Sports\n",
      "<Element em at 0x7fe358a40c58>\n"
     ]
    }
   ],
   "source": [
    "import lxml.html\n",
    "tree = lxml.html.parse('http://hobbes.cs.umass.edu/~ranga/scrap/2015-10-20_595224.html')\n",
    "print tree.xpath('/html/body/div[3]')[0].items()\n",
    "print tree.xpath('//title')[0].text\n",
    "print tree.xpath('//em')[0]\n"
   ]
  },
  {
   "cell_type": "code",
   "execution_count": 213,
   "metadata": {
    "collapsed": false
   },
   "outputs": [
    {
     "name": "stdout",
     "output_type": "stream",
     "text": [
      "3 7\n"
     ]
    }
   ],
   "source": [
    "def a(x,y):\n",
    "    x+=1\n",
    "\n",
    "p,q = 3,7\n",
    "a(p,q)\n",
    "print p,q"
   ]
  },
  {
   "cell_type": "code",
   "execution_count": null,
   "metadata": {
    "collapsed": true
   },
   "outputs": [],
   "source": []
  }
 ],
 "metadata": {
  "kernelspec": {
   "display_name": "Python 2",
   "language": "python",
   "name": "python2"
  },
  "language_info": {
   "codemirror_mode": {
    "name": "ipython",
    "version": 2
   },
   "file_extension": ".py",
   "mimetype": "text/x-python",
   "name": "python",
   "nbconvert_exporter": "python",
   "pygments_lexer": "ipython2",
   "version": "2.7.11"
  }
 },
 "nbformat": 4,
 "nbformat_minor": 0
}
