{
 "cells": [
  {
   "cell_type": "code",
   "execution_count": 150,
   "metadata": {
    "collapsed": false
   },
   "outputs": [
    {
     "name": "stdout",
     "output_type": "stream",
     "text": [
      "2\n",
      "7485\n"
     ]
    }
   ],
   "source": [
    "#Data Analysis\n",
    "import numpy as np\n",
    "import os\n",
    "import json\n",
    "trainexamples = []\n",
    "testexamples = []\n",
    "\n",
    "def loadtest(direc):\n",
    "    for each in os.listdir(direc):        \n",
    "        if '.npy' in each:\n",
    "            fids = each.split('_')[1][:-4]\n",
    "            examples = np.load(direc+'/'+each)\n",
    "            with open(direc+'/'+each[:-4]+'.json', 'r') as infile:\n",
    "                values = json.load(infile)\n",
    "            yield examples,fids,values\n",
    "    return\n",
    "\n",
    "   \n",
    "def load(direc):\n",
    "    examples = []\n",
    "    fids  = []\n",
    "    values = []\n",
    "    for each in os.listdir(direc):        \n",
    "        try:\n",
    "            if '.npy' in each:\n",
    "                fids.append(each.split('_')[1][:-4])\n",
    "                examples.extend(np.load(direc+'/'+each))\n",
    "                with open(direc+'/'+each[:-4]+'.json', 'r') as infile:\n",
    "                    values.extend(json.load(infile))\n",
    "        except:\n",
    "            continue\n",
    "    return examples,fids,values\n",
    "\n",
    "trainexamples, trainfids, trainvalues = load('../../../../data/Titlefeature/cv1/train')\n",
    "\n",
    "trainlabels, trainfeatures = [], []\n",
    "for each in trainexamples:\n",
    "    trainfeatures.append(each[1:])\n",
    "    trainlabels.append(each[0])\n",
    "\n",
    "testexamples, testfids, testvalues = load('../../../../data/Titlefeature/cv1/test')\n",
    "testfeatures, testlabels = [], []\n",
    "for each in testexamples:\n",
    "    testfeatures.append(each[1:])\n",
    "    testlabels.append(each[0])\n",
    "assert(len(trainvalues)==len(trainlabels))\n",
    "assert(len(testvalues)==len(testlabels))\n",
    "print len(trainfeatures[0])\n",
    "print len(trainfeatures)"
   ]
  },
  {
   "cell_type": "code",
   "execution_count": 151,
   "metadata": {
    "collapsed": false
   },
   "outputs": [
    {
     "name": "stdout",
     "output_type": "stream",
     "text": [
      "29 420\n"
     ]
    }
   ],
   "source": [
    "print trainlabels.count(1), trainlabels.count(2)"
   ]
  },
  {
   "cell_type": "code",
   "execution_count": null,
   "metadata": {
    "collapsed": false
   },
   "outputs": [],
   "source": []
  },
  {
   "cell_type": "code",
   "execution_count": 144,
   "metadata": {
    "collapsed": false
   },
   "outputs": [
    {
     "name": "stdout",
     "output_type": "stream",
     "text": [
      "29\n",
      "0.838709677419\n",
      "---------Title---------\n",
      "Mine 0 Ground 1\n",
      "-------------Error number 0------------\n",
      "teven Hoff, 46, was convicted July 20 of two counts of attempted murder of a police officer and one count of being a felon owning a gun.\n",
      "[  0.   0.   0.   0.   0.   0.   0.   0.   0.   0.   0.   0.   0.   0.   1.\n",
      "   0.   0.   0.   0.   0.   0.   0.   0.   0.   0.   0.   0.   0.   0.   0.\n",
      "   0.   0.   0.  30.]\n",
      "Mine 0 Ground 1\n",
      "-------------Error number 1------------\n",
      "Law and Order\n",
      "[ 0.  0.  1.  0.  0.  0.  0.  0.  0.  0.  0.  0.  0.  0.  0.  0.  0.  0.\n",
      "  0.  0.  0.  0.  0.  0.  0.  0.  0.  0.  0.  0.  0.  0.  0.  3.]\n",
      "Mine 0 Ground 1\n",
      "-------------Error number 2------------\n",
      "High court throws out conviction for Facebook threats\n",
      "[ 0.  0.  0.  0.  0.  0.  0.  0.  0.  0.  0.  0.  0.  1.  0.  0.  0.  0.\n",
      "  0.  0.  0.  0.  0.  0.  0.  0.  0.  0.  0.  0.  0.  0.  0.  8.]\n",
      "Mine 0 Ground 1\n",
      "-------------Error number 3------------\n",
      "Edmonton\n",
      "[ 0.  0.  0.  0.  0.  0.  0.  0.  0.  0.  0.  0.  0.  0.  0.  0.  0.  0.\n",
      "  0.  0.  0.  0.  0.  0.  0.  0.  1.  0.  0.  0.  0.  0.  0.  1.]\n",
      "Mine 0 Ground 1\n",
      "-------------Error number 4------------\n",
      "Suspect in Jewish center shootings 'entrenched in the hate movement'\n",
      "[  0.   0.   0.   0.   0.   0.   0.   0.   0.   0.   0.   0.   0.   1.   0.\n",
      "   0.   0.   0.   0.   0.   0.   0.   0.   0.   0.   0.   0.   0.   0.   0.\n",
      "   0.   0.   0.  11.]\n"
     ]
    }
   ],
   "source": [
    "#Content extractor\n",
    "#non parametric classifier\n",
    "from sklearn.tree import DecisionTreeClassifier\n",
    "from sklearn.metrics import f1_score\n",
    "import numpy as np\n",
    "\n",
    "testlabels_title = map(lambda x: 1 if x==1 else 0 , testlabels)\n",
    "p_dectree =  np.array(testfeatures)[:,0]\n",
    "print precision_score(p_dectree,testlabels_title)\n",
    "cnt = 0\n",
    "print '---------Title---------'\n",
    "for i,each in enumerate(zip(p_dectree,testlabels_title)):\n",
    "    if each[0] == 0 and each[1]==1:\n",
    "        print 'Mine %d Ground %d'%(each[0],each[1])\n",
    "        print '-------------Error number %d------------' %cnt\n",
    "        print testvalues[i]\n",
    "        print testfeatures[i]\n",
    "        cnt+=1\n",
    "\n"
   ]
  },
  {
   "cell_type": "code",
   "execution_count": 157,
   "metadata": {
    "collapsed": false
   },
   "outputs": [
    {
     "ename": "NameError",
     "evalue": "name 'pickle' is not defined",
     "output_type": "error",
     "traceback": [
      "\u001b[1;31m---------------------------------------------------------------------------\u001b[0m",
      "\u001b[1;31mNameError\u001b[0m                                 Traceback (most recent call last)",
      "\u001b[1;32m<ipython-input-157-eea23b683b62>\u001b[0m in \u001b[0;36m<module>\u001b[1;34m()\u001b[0m\n\u001b[0;32m     27\u001b[0m \u001b[1;33m\u001b[0m\u001b[0m\n\u001b[0;32m     28\u001b[0m \u001b[0mTC\u001b[0m \u001b[1;33m=\u001b[0m \u001b[0mTitleClassifier\u001b[0m\u001b[1;33m(\u001b[0m\u001b[1;33m)\u001b[0m\u001b[1;33m\u001b[0m\u001b[0m\n\u001b[1;32m---> 29\u001b[1;33m \u001b[0mpickle\u001b[0m\u001b[1;33m.\u001b[0m\u001b[0mdump\u001b[0m\u001b[1;33m(\u001b[0m\u001b[0mfile\u001b[0m\u001b[1;33m(\u001b[0m\u001b[1;34m'Best_title.dat'\u001b[0m\u001b[1;33m,\u001b[0m\u001b[1;34m'w'\u001b[0m\u001b[1;33m)\u001b[0m\u001b[1;33m)\u001b[0m\u001b[1;33m\u001b[0m\u001b[0m\n\u001b[0m\u001b[0;32m     30\u001b[0m \u001b[1;32mfor\u001b[0m \u001b[0mx\u001b[0m\u001b[1;33m,\u001b[0m\u001b[0my\u001b[0m\u001b[1;33m,\u001b[0m\u001b[0mv\u001b[0m \u001b[1;32min\u001b[0m \u001b[0mloadtest\u001b[0m\u001b[1;33m(\u001b[0m\u001b[1;34m'../../../../data/Titlefeature/cv1/test'\u001b[0m\u001b[1;33m)\u001b[0m\u001b[1;33m:\u001b[0m\u001b[1;33m\u001b[0m\u001b[0m\n\u001b[0;32m     31\u001b[0m     \u001b[0mY\u001b[0m \u001b[1;33m=\u001b[0m \u001b[0mTC\u001b[0m\u001b[1;33m.\u001b[0m\u001b[0mpredict\u001b[0m\u001b[1;33m(\u001b[0m\u001b[0mnp\u001b[0m\u001b[1;33m.\u001b[0m\u001b[0marray\u001b[0m\u001b[1;33m(\u001b[0m\u001b[0mx\u001b[0m\u001b[1;33m)\u001b[0m\u001b[1;33m.\u001b[0m\u001b[0mtranspose\u001b[0m\u001b[1;33m(\u001b[0m\u001b[1;33m)\u001b[0m\u001b[1;33m[\u001b[0m\u001b[1;36m1\u001b[0m\u001b[1;33m:\u001b[0m\u001b[1;33m,\u001b[0m\u001b[1;33m]\u001b[0m\u001b[1;33m.\u001b[0m\u001b[0mtranspose\u001b[0m\u001b[1;33m(\u001b[0m\u001b[1;33m)\u001b[0m\u001b[1;33m)\u001b[0m\u001b[1;33m\u001b[0m\u001b[0m\n",
      "\u001b[1;31mNameError\u001b[0m: name 'pickle' is not defined"
     ]
    }
   ],
   "source": [
    "class TitleClassifier:\n",
    "    \n",
    "    def __init__(self):\n",
    "        \"\"\"Predicts for a single news article only\"\"\"\n",
    "        pass\n",
    "    \n",
    "    def predict(self,X):        \n",
    "        assert(X.shape[1] == 2)        \n",
    "        rowno = 0\n",
    "        res = -1\n",
    "        gotit = False\n",
    "        for goodmatch,isheading in X:\n",
    "            \n",
    "            if goodmatch == 1 and isheading==1:\n",
    "                res = rowno\n",
    "                \n",
    "                break;\n",
    "            if isheading == 1 and not gotit:\n",
    "                res = rowno\n",
    "                gotit  = True\n",
    "            rowno+=1\n",
    "        Y = [0]*X.shape[0]\n",
    "        print res\n",
    "        if res>=0:\n",
    "            Y[res] = 1\n",
    "        return Y\n",
    "            \n",
    "TC = TitleClassifier()\n",
    "import pickle\n",
    "pickle.dump(file('Best_title.dat','w'))\n",
    "for x,y,v in loadtest('../../../../data/Titlefeature/cv1/test'):\n",
    "    Y = TC.predict(np.array(x).transpose()[1:,].transpose())\n",
    "    print '--**'*10\n",
    "    title = ''\n",
    "    for i,e in enumerate(Y):\n",
    "        if e == 1:\n",
    "            title+=v[i]\n",
    "    print title\n",
    "        \n",
    "                \n",
    "                \n",
    "        "
   ]
  },
  {
   "cell_type": "code",
   "execution_count": null,
   "metadata": {
    "collapsed": true
   },
   "outputs": [],
   "source": []
  }
 ],
 "metadata": {
  "kernelspec": {
   "display_name": "Python 2",
   "language": "python",
   "name": "python2"
  },
  "language_info": {
   "codemirror_mode": {
    "name": "ipython",
    "version": 2
   },
   "file_extension": ".py",
   "mimetype": "text/x-python",
   "name": "python",
   "nbconvert_exporter": "python",
   "pygments_lexer": "ipython2",
   "version": "2.7.11"
  }
 },
 "nbformat": 4,
 "nbformat_minor": 0
}
