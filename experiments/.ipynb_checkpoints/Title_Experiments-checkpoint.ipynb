{
 "cells": [
  {
   "cell_type": "code",
   "execution_count": 9,
   "metadata": {
    "collapsed": false
   },
   "outputs": [
    {
     "ename": "IndexError",
     "evalue": "list index out of range",
     "output_type": "error",
     "traceback": [
      "\u001b[1;31m---------------------------------------------------------------------------\u001b[0m",
      "\u001b[1;31mIndexError\u001b[0m                                Traceback (most recent call last)",
      "\u001b[1;32m<ipython-input-9-83ac520eb1fc>\u001b[0m in \u001b[0;36m<module>\u001b[1;34m()\u001b[0m\n\u001b[0;32m     20\u001b[0m \u001b[1;31m# match = results[0]\u001b[0m\u001b[1;33m\u001b[0m\u001b[1;33m\u001b[0m\u001b[0m\n\u001b[0;32m     21\u001b[0m \u001b[1;31m# print match.get('href')\u001b[0m\u001b[1;33m\u001b[0m\u001b[1;33m\u001b[0m\u001b[0m\n\u001b[1;32m---> 22\u001b[1;33m \u001b[1;32mprint\u001b[0m \u001b[0mresults\u001b[0m\u001b[1;33m[\u001b[0m\u001b[1;36m0\u001b[0m\u001b[1;33m]\u001b[0m\u001b[1;33m\u001b[0m\u001b[0m\n\u001b[0m\u001b[0;32m     23\u001b[0m \u001b[1;33m\u001b[0m\u001b[0m\n\u001b[0;32m     24\u001b[0m \u001b[1;31m# # print the HTML for the first result.\u001b[0m\u001b[1;33m\u001b[0m\u001b[1;33m\u001b[0m\u001b[0m\n",
      "\u001b[1;31mIndexError\u001b[0m: list index out of range"
     ]
    }
   ],
   "source": [
    "import lxml.html\n",
    "from lxml.cssselect import CSSSelector\n",
    "\n",
    "# get some html\n",
    "import requests\n",
    "\n",
    "r = requests.get('http://google.com/')\n",
    "\n",
    "# build the DOM Tree\n",
    "tree = lxml.html.fromstring(r.text)\n",
    "\n",
    "# print the parsed DOM Tree\n",
    "# print lxml.html.tostring(tree)\n",
    "\n",
    "# construct a CSS Selector\n",
    "sel = CSSSelector('div.)\n",
    "\n",
    "# Apply the selector to the DOM tree.\n",
    "results = sel(tree)\n",
    "# match = results[0]\n",
    "# print match.get('href')\n",
    "print results[0]\n",
    "\n",
    "# # print the HTML for the first result.\n",
    "# match = results[0]\n",
    "# print lxml.html.tostring(match)\n",
    "\n",
    "# # get the href attribute of the first result\n",
    "# print match.get('href')\n",
    "\n",
    "# # print the text of the first result.\n",
    "# print match.text\n",
    "\n",
    "# # get the text out of all the results\n",
    "# data = [result.text for result in results]"
   ]
  },
  {
   "cell_type": "code",
   "execution_count": 49,
   "metadata": {
    "collapsed": false
   },
   "outputs": [
    {
     "ename": "KeyboardInterrupt",
     "evalue": "",
     "output_type": "error",
     "traceback": [
      "\u001b[1;31m---------------------------------------------------------------------------\u001b[0m",
      "\u001b[1;31mKeyboardInterrupt\u001b[0m                         Traceback (most recent call last)",
      "\u001b[1;32m<ipython-input-49-6d39b2297519>\u001b[0m in \u001b[0;36m<module>\u001b[1;34m()\u001b[0m\n\u001b[0;32m     76\u001b[0m             \u001b[1;32mcontinue\u001b[0m\u001b[1;33m\u001b[0m\u001b[0m\n\u001b[0;32m     77\u001b[0m \u001b[0mtree\u001b[0m \u001b[1;33m=\u001b[0m \u001b[0mget_tree\u001b[0m\u001b[1;33m(\u001b[0m\u001b[1;34m'http://hobbes.cs.umass.edu/~ranga/scrap/2015-04-05_86632.html'\u001b[0m\u001b[1;33m)\u001b[0m\u001b[1;33m\u001b[0m\u001b[0m\n\u001b[1;32m---> 78\u001b[1;33m \u001b[0mt\u001b[0m \u001b[1;33m=\u001b[0m \u001b[0mget_text_nodelist_dfs\u001b[0m\u001b[1;33m(\u001b[0m\u001b[0mtree\u001b[0m\u001b[1;33m)\u001b[0m\u001b[1;33m\u001b[0m\u001b[0m\n\u001b[0m\u001b[0;32m     79\u001b[0m \u001b[1;32mprint\u001b[0m \u001b[0mt\u001b[0m\u001b[1;33m\u001b[0m\u001b[0m\n\u001b[0;32m     80\u001b[0m \u001b[1;32mprint\u001b[0m \u001b[1;34m'Done'\u001b[0m\u001b[1;33m\u001b[0m\u001b[0m\n",
      "\u001b[1;32m<ipython-input-49-6d39b2297519>\u001b[0m in \u001b[0;36mget_text_nodelist_dfs\u001b[1;34m(tree)\u001b[0m\n\u001b[0;32m     32\u001b[0m     \u001b[1;32mwhile\u001b[0m \u001b[0mstack\u001b[0m\u001b[1;33m:\u001b[0m\u001b[1;33m\u001b[0m\u001b[0m\n\u001b[0;32m     33\u001b[0m         \u001b[0meach\u001b[0m \u001b[1;33m=\u001b[0m \u001b[0mstack\u001b[0m\u001b[1;33m.\u001b[0m\u001b[0mpop\u001b[0m\u001b[1;33m(\u001b[0m\u001b[1;33m)\u001b[0m\u001b[1;33m\u001b[0m\u001b[0m\n\u001b[1;32m---> 34\u001b[1;33m         \u001b[1;32mif\u001b[0m \u001b[1;33m(\u001b[0m\u001b[0meach\u001b[0m\u001b[1;33m.\u001b[0m\u001b[0mtext\u001b[0m \u001b[1;32mor\u001b[0m \u001b[0meach\u001b[0m\u001b[1;33m.\u001b[0m\u001b[0mtail\u001b[0m\u001b[1;33m)\u001b[0m \u001b[1;32mand\u001b[0m \u001b[0mtree\u001b[0m\u001b[1;33m.\u001b[0m\u001b[0mgetpath\u001b[0m\u001b[1;33m(\u001b[0m\u001b[0meach\u001b[0m\u001b[1;33m)\u001b[0m \u001b[1;32mnot\u001b[0m \u001b[1;32min\u001b[0m \u001b[0mnodelist\u001b[0m\u001b[1;33m:\u001b[0m\u001b[1;33m\u001b[0m\u001b[0m\n\u001b[0m\u001b[0;32m     35\u001b[0m             \u001b[0mnodelist\u001b[0m\u001b[1;33m[\u001b[0m\u001b[0mtree\u001b[0m\u001b[1;33m.\u001b[0m\u001b[0mgetpath\u001b[0m\u001b[1;33m(\u001b[0m\u001b[0meach\u001b[0m\u001b[1;33m)\u001b[0m\u001b[1;33m]\u001b[0m \u001b[1;33m=\u001b[0m \u001b[1;33m[\u001b[0m\u001b[1;33m]\u001b[0m\u001b[1;33m\u001b[0m\u001b[0m\n\u001b[0;32m     36\u001b[0m         \u001b[1;32mif\u001b[0m \u001b[0meach\u001b[0m\u001b[1;33m.\u001b[0m\u001b[0mtext\u001b[0m\u001b[1;33m:\u001b[0m\u001b[1;33m\u001b[0m\u001b[0m\n",
      "\u001b[1;31mKeyboardInterrupt\u001b[0m: "
     ]
    }
   ],
   "source": [
    "import lxml.html\n",
    "\n",
    "def get_tree(url):\n",
    "    return lxml.html.parse(url)\n",
    "\n",
    "\n",
    "NL = {}\n",
    "def dfs(root):\n",
    "    global NL\n",
    "    each = root\n",
    "    if (each.text or each.tail) and tree.getpath(each) not in NL:\n",
    "            NL[tree.getpath(each)] = []\n",
    "    if each.text:\n",
    "        NL[tree.getpath(each)].append(each.text)\n",
    "        if each.tag not in ['script', 'meta','style']:\n",
    "            print each.text\n",
    "    if each.tail:\n",
    "        NL[tree.getpath(each)].append(each.tail)\n",
    "        if each.tag not in ['script', 'meta','style']:\n",
    "            print each.tail\n",
    "    for each in root.getchildren():\n",
    "        dfs(each)    \n",
    "\n",
    "        \n",
    "            \n",
    "    \n",
    "def get_text_nodelist_dfs(tree):    \n",
    "    textnodes = []  \n",
    "    root = tree.getroot()\n",
    "    nodelist = {}\n",
    "    stack = [root]\n",
    "    \n",
    "    while stack:\n",
    "        each = stack.pop()\n",
    "        if (each.text or each.tail) and tree.getpath(each) not in nodelist:\n",
    "            nodelist[tree.getpath(each)] = []\n",
    "        if each.text:\n",
    "            nodelist[tree.getpath(each)].append(each.text)\n",
    "        if each.tail:\n",
    "            nodelist[tree.getpath(each)].append(each.tail)\n",
    "        stack.extend(reversed(each.getchildren()))\n",
    "    for each in nodelist:\n",
    "        for i,every in enumerate(nodelist[each]):\n",
    "            textnodes.append(each+'/text()['+str(i+1)+']')\n",
    "    return textnodes\n",
    "\n",
    "\n",
    "def validnodes(tree, text):\n",
    "    newtext = text.replace('\\n','').replace('\\r','').replace(' ','')\n",
    "    root = tree.getroot()\n",
    "    for each in root.iter():\n",
    "        if each.tag in ['script', 'meta','style']:\n",
    "            continue            \n",
    "            \n",
    "        try:\n",
    "            if type(each.text) == str:\n",
    "                s = each.text\n",
    "                s = s.replace('\\n','').replace('\\r','').replace(' ','')\n",
    "                if s == \"\":\n",
    "                    continue; \n",
    "                if newtext.find(s)!=-1:\n",
    "                    print s\n",
    "        except:\n",
    "            print 'Decoding failed :('\n",
    "            continue\n",
    "\n",
    "        try:\n",
    "            if type(each.tail) == str:\n",
    "                s = each.tail\n",
    "                s = s.replace('\\n','').replace('\\r','').replace(' ','')\n",
    "                if s == \"\":\n",
    "                    continue;            \n",
    "                if newtext.find(s)!=-1:\n",
    "                    print s\n",
    "        except:\n",
    "            print 'Decoding failed :('\n",
    "            continue\n",
    "tree = get_tree('http://hobbes.cs.umass.edu/~ranga/scrap/2015-04-05_86632.html')\n",
    "t = get_text_nodelist_dfs(tree)\n",
    "print t\n",
    "print 'Done'"
   ]
  },
  {
   "cell_type": "code",
   "execution_count": 16,
   "metadata": {
    "collapsed": false
   },
   "outputs": [
    {
     "name": "stdout",
     "output_type": "stream",
     "text": [
      "{'confidence': 0.73, 'encoding': 'windows-1252'}\n"
     ]
    }
   ],
   "source": [
    "# tree = get_tree('http://google.com')\n",
    "# tree.docinfo.encoding\n",
    "import urllib\n",
    "from chardet.universaldetector import UniversalDetector\n",
    "\n",
    "usock = urllib.urlopen('http://google.com/')\n",
    "detector = UniversalDetector()\n",
    "for line in usock.readlines():\n",
    "    detector.feed(line)\n",
    "    if detector.done: break\n",
    "detector.close()\n",
    "usock.close()\n",
    "print detector.result\n"
   ]
  },
  {
   "cell_type": "code",
   "execution_count": 48,
   "metadata": {
    "collapsed": false
   },
   "outputs": [
    {
     "name": "stdout",
     "output_type": "stream",
     "text": [
      "['/html[1]/dic[10]/g', '/html[1]/dic[1]/dic[1]/g', '/html[1]/dic[1]/g']\n"
     ]
    }
   ],
   "source": [
    "a = [\"/html[1]/dic[1]/g\",\"/html[1]/dic[1]/dic[1]/g\", \"/html[1]/dic[10]/g\"]\n",
    "for each in a:\n",
    "    for every in each.split('/'):\n",
    "        every.split\n",
    "        \n",
    "    \n",
    "print sorted(a,cmp=temp)"
   ]
  },
  {
   "cell_type": "code",
   "execution_count": null,
   "metadata": {
    "collapsed": true
   },
   "outputs": [],
   "source": []
  }
 ],
 "metadata": {
  "kernelspec": {
   "display_name": "Python 2",
   "language": "python",
   "name": "python2"
  },
  "language_info": {
   "codemirror_mode": {
    "name": "ipython",
    "version": 2
   },
   "file_extension": ".py",
   "mimetype": "text/x-python",
   "name": "python",
   "nbconvert_exporter": "python",
   "pygments_lexer": "ipython2",
   "version": "2.7.11"
  }
 },
 "nbformat": 4,
 "nbformat_minor": 0
}
